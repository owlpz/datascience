{
 "cells": [
  {
   "cell_type": "markdown",
   "metadata": {},
   "source": [
    "<h1 id=\"Higher-NITEC-in-Data-Engineering\" style=\"text-align: center;\">Higher NITEC in Data Engineering</h1>\n",
    "<h1 id=\"DE4002FP---Data-Science-Programming\" style=\"text-align: center;\">DE4002FP - Data Science Programming</h1>\n",
    "<p><br /><br /></p>\n",
    "<h2 id=\"Practical-Assignment-2\" style=\"text-align: center;\">Project</h2>"
   ]
  },
  {
   "cell_type": "markdown",
   "metadata": {},
   "source": [
    "---"
   ]
  },
  {
   "cell_type": "markdown",
   "metadata": {},
   "source": [
    "### Title:- Develop program codes for visual analysis using data science libraries"
   ]
  },
  {
   "cell_type": "markdown",
   "metadata": {},
   "source": [
    "### Tools, equipment and material:-\n",
    "    1. Personal Computer with Internet access\n",
    "    2. Jupyter Notebook / Pycharm /Spyder IDE\n",
    "    3. Source file (StudentsPerformance.csv), available at:-\n",
    "        https://github.com/AlameluRamanathan/M2-DSP"
   ]
  },
  {
   "cell_type": "markdown",
   "metadata": {},
   "source": [
    "---"
   ]
  },
  {
   "cell_type": "markdown",
   "metadata": {},
   "source": [
    "### StudentsPerformance.csv dataset information:-\n",
    "The dataset consists of the marks secured by the students in various subjects. There are 1000 occurrences and 8 columns.\n",
    "\n",
    "Following are the columns name:\n",
    "    \n",
    "    1. gender\n",
    "    2. race / ethnicity\n",
    "    3. parental level of education\n",
    "    4. lunch\n",
    "    5. test preparation course\n",
    "    6. math score\n",
    "    7. reading score\n",
    "    8. writing score\n",
    "\n",
    "Explore the dataset to understand the influence of the parent’s background, test preparation etc. on student’s performance. The dataset comprises of 1,000 rows and 8 columns, with which we continue to determine what all the features which plays a vital role in affecting the student's performance, and we also try to solve some of the myths for example : students who perform good in math is bad at writing."
   ]
  },
  {
   "cell_type": "markdown",
   "metadata": {},
   "source": [
    "### Instructions:-\n",
    "\n",
    "#### You are programmer tasked to write codes to perform visual analysis of the given dataset “StudentsPerformance.csv”. The following are the project requirements:\n"
   ]
  },
  {
   "cell_type": "markdown",
   "metadata": {},
   "source": [
    "### 1. Import all required Python libraries."
   ]
  },
  {
   "cell_type": "code",
   "execution_count": null,
   "metadata": {},
   "outputs": [],
   "source": [
    "# import all packages and set plots to be embedded inline\n",
    "\n"
   ]
  },
  {
   "cell_type": "markdown",
   "metadata": {},
   "source": [
    "### 2. Apply appropriate programming logics."
   ]
  },
  {
   "cell_type": "markdown",
   "metadata": {},
   "source": [
    "### 2a. Data extraction and basic data inspection."
   ]
  },
  {
   "cell_type": "code",
   "execution_count": null,
   "metadata": {},
   "outputs": [],
   "source": [
    "# write code to extract data from 'StudentsPerformance.csv' (note: dataframe will be created when read csv file)\n",
    "\n"
   ]
  },
  {
   "cell_type": "code",
   "execution_count": null,
   "metadata": {},
   "outputs": [],
   "source": [
    "# write code to display first 10 rows of data extracted\n",
    "\n"
   ]
  },
  {
   "cell_type": "code",
   "execution_count": null,
   "metadata": {},
   "outputs": [],
   "source": [
    "# write code to display last 10 rows of data extracted\n",
    "\n"
   ]
  },
  {
   "cell_type": "code",
   "execution_count": null,
   "metadata": {},
   "outputs": [],
   "source": [
    "# write code to find out the shape of the data (rows and columns)\n",
    "\n"
   ]
  },
  {
   "cell_type": "markdown",
   "metadata": {},
   "source": [
    "### 2b. Detecting missing values, null values, duplicate and rename columns."
   ]
  },
  {
   "cell_type": "code",
   "execution_count": null,
   "metadata": {},
   "outputs": [],
   "source": [
    "# write code to display dataframe information\n",
    "\n"
   ]
  },
  {
   "cell_type": "code",
   "execution_count": null,
   "metadata": {},
   "outputs": [],
   "source": [
    "# write code to check out for total number of null values on each columns\n",
    "\n"
   ]
  },
  {
   "cell_type": "code",
   "execution_count": null,
   "metadata": {},
   "outputs": [],
   "source": [
    "# write code to check for duplicate records in all rows\n",
    "\n"
   ]
  },
  {
   "cell_type": "code",
   "execution_count": null,
   "metadata": {},
   "outputs": [],
   "source": [
    "# write code to display original dataframe columns\n",
    "\n"
   ]
  },
  {
   "cell_type": "code",
   "execution_count": null,
   "metadata": {},
   "outputs": [],
   "source": [
    "# analyse columns name display above, check if columns name contain symbol or space.\n",
    "# if it contain symbol or space, write code to replace it with '_'. \n",
    "# As a result, column name should be continuous string without space\n",
    "\n"
   ]
  },
  {
   "cell_type": "code",
   "execution_count": null,
   "metadata": {},
   "outputs": [],
   "source": [
    "# write code to display modified dataframe columns\n",
    "# double check if all columns name does not contain symbol or space and it should be continuous string without space\n",
    "\n"
   ]
  },
  {
   "cell_type": "markdown",
   "metadata": {},
   "source": [
    "### 2c. Statistical measures to describe and analyses data."
   ]
  },
  {
   "cell_type": "code",
   "execution_count": null,
   "metadata": {},
   "outputs": [],
   "source": [
    "# write code describe the dataframe summary statistics (example: count, mean, std, etc....)\n",
    "# note: only focus on 'math_score', 'reading_score' and 'writing_score'\n",
    "\n"
   ]
  },
  {
   "cell_type": "code",
   "execution_count": null,
   "metadata": {},
   "outputs": [],
   "source": [
    "# write code to group dataframe by 'gender'\n",
    "\n"
   ]
  },
  {
   "cell_type": "code",
   "execution_count": null,
   "metadata": {},
   "outputs": [],
   "source": [
    "# write code to count the 'gender'\n",
    "\n"
   ]
  },
  {
   "cell_type": "code",
   "execution_count": null,
   "metadata": {},
   "outputs": [],
   "source": [
    "# write code to group dataframe by 'race_ethnicity'\n",
    "\n"
   ]
  },
  {
   "cell_type": "code",
   "execution_count": null,
   "metadata": {},
   "outputs": [],
   "source": [
    "# write code to count the different group of 'race_ethnicity'\n",
    "\n"
   ]
  },
  {
   "cell_type": "code",
   "execution_count": null,
   "metadata": {},
   "outputs": [],
   "source": [
    "# write code to group dataframe by 'lunch'\n",
    "\n"
   ]
  },
  {
   "cell_type": "code",
   "execution_count": null,
   "metadata": {},
   "outputs": [],
   "source": [
    "# write code to count the type of 'lunch'\n",
    "\n"
   ]
  },
  {
   "cell_type": "code",
   "execution_count": null,
   "metadata": {},
   "outputs": [],
   "source": [
    "# write code to group dataframe by 'test_preparation_course'\n",
    "\n"
   ]
  },
  {
   "cell_type": "code",
   "execution_count": null,
   "metadata": {},
   "outputs": [],
   "source": [
    "# write code to count the status of 'test_preparation_course'\n",
    "\n"
   ]
  },
  {
   "cell_type": "code",
   "execution_count": null,
   "metadata": {},
   "outputs": [],
   "source": [
    "# write code to group dataframe by 'parental_level_of_education'\n",
    "\n"
   ]
  },
  {
   "cell_type": "code",
   "execution_count": null,
   "metadata": {},
   "outputs": [],
   "source": [
    "# write code to count the different type of 'parental_level_of_education'\n",
    "\n"
   ]
  },
  {
   "cell_type": "markdown",
   "metadata": {},
   "source": [
    "### 3. Visualize data and identify insights at each step."
   ]
  },
  {
   "cell_type": "markdown",
   "metadata": {},
   "source": [
    "### 3a. Plot the distribution of gender using pie chart."
   ]
  },
  {
   "cell_type": "code",
   "execution_count": null,
   "metadata": {},
   "outputs": [],
   "source": [
    "# write code to store grouped 'gender' count in a variable\n",
    "\n",
    "\n",
    "# write code to store grouped 'gender' keys in a variable as pie chart label\n",
    "\n",
    "\n",
    "# write code to plot the 'gender' distribution pie chart:\n",
    "# 1. set background color of the outer area of the plot and figure size (6, 6)\n",
    "# 2. plot pie chart using 'gender' count and label\n",
    "# 3. add title of pie chart\n",
    "# 4. show plot\n",
    "\n"
   ]
  },
  {
   "cell_type": "markdown",
   "metadata": {},
   "source": [
    "### 3b. Plot the distribution of ethnicity using bar chart."
   ]
  },
  {
   "cell_type": "code",
   "execution_count": null,
   "metadata": {},
   "outputs": [],
   "source": [
    "# write code to store grouped 'race_ethnicity' count in a variable\n",
    "\n",
    "\n",
    "# write code to store grouped 'race_ethnicity' keys in a variable as bar chart x-axis label\n",
    "\n",
    "\n",
    "# create x-axis position for each group of 'race_ethnicity'\n",
    "\n",
    "\n",
    "# write code to plot the 'race_ethnicity' distribution bar chart:\n",
    "# 1. set background color of the outer area of the plot and figure size (10, 5)\n",
    "# 2. plot bar chart using 'race_ethnicity' and count\n",
    "# 3. add title of bar chart\n",
    "# 4. add x-axis and y-axis label\n",
    "# 5. replace x-ticks with 'race_ethnicity' groups\n",
    "# 6. show plot\n",
    "\n"
   ]
  },
  {
   "cell_type": "markdown",
   "metadata": {},
   "source": [
    "### 3c. Plot the distribution of lunch using pie chart."
   ]
  },
  {
   "cell_type": "code",
   "execution_count": null,
   "metadata": {},
   "outputs": [],
   "source": [
    "# write code to store grouped 'lunch' count in a variable\n",
    "\n",
    "\n",
    "# write code to store grouped 'lunch' keys in a variable as pie chart label\n",
    "\n",
    "\n",
    "# write code to plot the 'lunch' distribution pie chart:\n",
    "# 1. set background color of the outer area of the plot and figure size (6, 6)\n",
    "# 2. plot pie chart using lunch type count and label\n",
    "# 3. add title of pie chart\n",
    "# 4. show plot\n",
    "\n"
   ]
  },
  {
   "cell_type": "markdown",
   "metadata": {},
   "source": [
    "### 3d. Plot the distribution of test preparation course using bar chart."
   ]
  },
  {
   "cell_type": "code",
   "execution_count": null,
   "metadata": {},
   "outputs": [],
   "source": [
    "# write code to store grouped 'test_preparation_course' count in a variable\n",
    "\n",
    "\n",
    "# write code to store grouped 'test_preparation_course' keys in a variable as bar chart x-axis label\n",
    "\n",
    "\n",
    "# create x-axis position for each group of 'test_preparation_course'\n",
    "\n",
    "\n",
    "# write code to plot the 'test_preparation_course' distribution bar chart:\n",
    "# 1. set background color of the outer area of the plot and figure size (8, 4)\n",
    "# 2. plot bar chart using 'test_preparation_course' and count\n",
    "# 3. add title of bar chart\n",
    "# 4. add x-axis and y-axis label\n",
    "# 5. replace x-ticks with 'test_preparation_course' groups\n",
    "# 6. show plot\n",
    "\n"
   ]
  },
  {
   "cell_type": "markdown",
   "metadata": {},
   "source": [
    "### 3e. Plot the distribution of parental level of education and math’s score and identify outlier."
   ]
  },
  {
   "cell_type": "code",
   "execution_count": null,
   "metadata": {},
   "outputs": [],
   "source": [
    "# use seaborn package\n",
    "import seaborn as sns\n",
    "\n",
    "# set background color of the outer area of the plot (15, 8)\n",
    "\n",
    "\n",
    "# using seaborn boxplot, plot \"parental_level_of_education\" against \"math_score\"\n"
   ]
  },
  {
   "cell_type": "markdown",
   "metadata": {},
   "source": [
    "### 3f. Plot the relation between gender and each score using box plot."
   ]
  },
  {
   "cell_type": "code",
   "execution_count": null,
   "metadata": {},
   "outputs": [],
   "source": [
    "# set background color of the outer area of the plot (6, 6)\n",
    "\n",
    "\n",
    "# using seaborn boxplot, plot \"gender\" against \"math_score\"\n",
    "\n"
   ]
  },
  {
   "cell_type": "code",
   "execution_count": null,
   "metadata": {},
   "outputs": [],
   "source": [
    "# set background color of the outer area of the plot (6, 6)\n",
    "\n",
    "\n",
    "# using seaborn boxplot, plot \"gender\" against \"reading_score\"\n",
    "\n"
   ]
  },
  {
   "cell_type": "code",
   "execution_count": null,
   "metadata": {},
   "outputs": [],
   "source": [
    "# set background color of the outer area of the plot (6, 6)\n",
    "\n",
    "\n",
    "# using seaborn boxplot, plot \"gender\" against \"writing_score\"\n",
    "\n"
   ]
  },
  {
   "cell_type": "markdown",
   "metadata": {},
   "source": [
    "### 3g. Plot relation between reading score, writing score and maths score using scatter plot."
   ]
  },
  {
   "cell_type": "code",
   "execution_count": null,
   "metadata": {},
   "outputs": [],
   "source": [
    "# write code to plot the 'reading_score' vs 'writing_score' scatter plot:\n",
    "# 1. set background color of the outer area of the plot and figure size (6, 6)\n",
    "# 2. plot scatter plot using 'reading_score' against 'writing_score'\n",
    "# 3. add title of scatter plot\n",
    "# 4. add x-axis and y-axis label\n",
    "# 5. show plot\n",
    "\n"
   ]
  },
  {
   "cell_type": "code",
   "execution_count": null,
   "metadata": {},
   "outputs": [],
   "source": [
    "# write code to plot the 'reading_score' vs 'math_score' scatter plot:\n",
    "# 1. set background color of the outer area of the plot and figure size (6, 6)\n",
    "# 2. plot scatter plot using 'reading_score' against 'math_score'\n",
    "# 3. add title of scatter plot\n",
    "# 4. add x-axis and y-axis label\n",
    "# 5. show plot\n",
    "\n"
   ]
  },
  {
   "cell_type": "code",
   "execution_count": null,
   "metadata": {},
   "outputs": [],
   "source": [
    "# write code to plot the 'writing_score' vs 'math_score' scatter plot:\n",
    "# 1. set background color of the outer area of the plot and figure size (6, 6)\n",
    "# 2. plot scatter plot using 'writing_score' against 'math_score'\n",
    "# 3. add title of scatter plot\n",
    "# 4. add x-axis and y-axis label\n",
    "# 5. show plot\n",
    "\n"
   ]
  },
  {
   "cell_type": "code",
   "execution_count": null,
   "metadata": {},
   "outputs": [],
   "source": []
  },
  {
   "cell_type": "markdown",
   "metadata": {},
   "source": [
    "## Submission:-\n",
    "#### 1. Save this file as \"Index_Name_DE4002FP_Project.ipynb\"\n",
    "#### 2. Submit file to myConnexion"
   ]
  },
  {
   "cell_type": "code",
   "execution_count": null,
   "metadata": {},
   "outputs": [],
   "source": []
  }
 ],
 "metadata": {
  "kernelspec": {
   "display_name": "Python 3 (ipykernel)",
   "language": "python",
   "name": "python3"
  },
  "language_info": {
   "codemirror_mode": {
    "name": "ipython",
    "version": 3
   },
   "file_extension": ".py",
   "mimetype": "text/x-python",
   "name": "python",
   "nbconvert_exporter": "python",
   "pygments_lexer": "ipython3",
   "version": "3.11.5"
  }
 },
 "nbformat": 4,
 "nbformat_minor": 4
}
