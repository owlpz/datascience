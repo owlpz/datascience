{
 "cells": [
  {
   "cell_type": "markdown",
   "id": "2c214e0c",
   "metadata": {},
   "source": [
    "<h1 id=\"Challenge:-Advanced-Data-Cleaning-with-the-Housing-Prices-Dataset\"><strong>Mock Test 2: Advanced Data Cleaning with the Housing Prices Dataset</strong></h1>\n",
    "<h2 id=\"Introduction\"><strong>Introduction</strong></h2>\n",
    "<p>To further solidify your understanding and enhance your data cleaning skills, we present you with a hands-on challenge. In this challenge, you will apply the techniques you've learned to a new dataset, encountering different scenarios and complexities.</p>\n",
    "<h2 id=\"Objective\"><strong>Objective</strong></h2>\n",
    "<p>Apply your data cleaning and formatting skills to the <strong>House Prices</strong> dataset. This exercise will help you gain experience in handling real-world data imperfections and prepare you for more advanced data analysis tasks.</p>"
   ]
  },
  {
   "cell_type": "markdown",
   "id": "e646d8fe",
   "metadata": {},
   "source": [
    "---"
   ]
  },
  {
   "cell_type": "markdown",
   "id": "3077e7fa",
   "metadata": {},
   "source": [
    "<h2><strong>Part 1: Importing and Inspecting the Dataset</strong></h2>\n",
    "<h3><strong>Step 1: Import Required Libraries</strong></h3>\n",
    "<p>Begin by importing the necessary Python libraries for data manipulation and visualization.</p>"
   ]
  },
  {
   "cell_type": "code",
   "execution_count": 49,
   "id": "40b4a23b",
   "metadata": {},
   "outputs": [],
   "source": [
    "import pandas as pd\n",
    "import seaborn as sns\n",
    "import matplotlib.pyplot as plt\n",
    "from sklearn.impute import SimpleImputer, KNNImputer\n"
   ]
  },
  {
   "cell_type": "markdown",
   "id": "050e9c79",
   "metadata": {},
   "source": [
    "<h3><strong>Step 2: Load the Dataset</strong></h3>\n",
    "<p>Load the House Prices dataset into a pandas DataFrame.</p>"
   ]
  },
  {
   "cell_type": "code",
   "execution_count": 50,
   "id": "ac5a9fd8",
   "metadata": {},
   "outputs": [
    {
     "data": {
      "text/html": [
       "<div>\n",
       "<style scoped>\n",
       "    .dataframe tbody tr th:only-of-type {\n",
       "        vertical-align: middle;\n",
       "    }\n",
       "\n",
       "    .dataframe tbody tr th {\n",
       "        vertical-align: top;\n",
       "    }\n",
       "\n",
       "    .dataframe thead th {\n",
       "        text-align: right;\n",
       "    }\n",
       "</style>\n",
       "<table border=\"1\" class=\"dataframe\">\n",
       "  <thead>\n",
       "    <tr style=\"text-align: right;\">\n",
       "      <th></th>\n",
       "      <th>longitude</th>\n",
       "      <th>latitude</th>\n",
       "      <th>housing_median_age</th>\n",
       "      <th>total_rooms</th>\n",
       "      <th>total_bedrooms</th>\n",
       "      <th>population</th>\n",
       "      <th>households</th>\n",
       "      <th>median_income</th>\n",
       "      <th>median_house_value</th>\n",
       "      <th>ocean_proximity</th>\n",
       "    </tr>\n",
       "  </thead>\n",
       "  <tbody>\n",
       "    <tr>\n",
       "      <th>0</th>\n",
       "      <td>-122.23</td>\n",
       "      <td>37.88</td>\n",
       "      <td>41.0</td>\n",
       "      <td>880.0</td>\n",
       "      <td>129.0</td>\n",
       "      <td>322.0</td>\n",
       "      <td>126.0</td>\n",
       "      <td>8.3252</td>\n",
       "      <td>452600.0</td>\n",
       "      <td>NEAR BAY</td>\n",
       "    </tr>\n",
       "    <tr>\n",
       "      <th>1</th>\n",
       "      <td>-122.22</td>\n",
       "      <td>37.86</td>\n",
       "      <td>21.0</td>\n",
       "      <td>7099.0</td>\n",
       "      <td>1106.0</td>\n",
       "      <td>2401.0</td>\n",
       "      <td>1138.0</td>\n",
       "      <td>8.3014</td>\n",
       "      <td>358500.0</td>\n",
       "      <td>NEAR BAY</td>\n",
       "    </tr>\n",
       "    <tr>\n",
       "      <th>2</th>\n",
       "      <td>-122.24</td>\n",
       "      <td>37.85</td>\n",
       "      <td>52.0</td>\n",
       "      <td>1467.0</td>\n",
       "      <td>190.0</td>\n",
       "      <td>496.0</td>\n",
       "      <td>177.0</td>\n",
       "      <td>7.2574</td>\n",
       "      <td>352100.0</td>\n",
       "      <td>NEAR BAY</td>\n",
       "    </tr>\n",
       "    <tr>\n",
       "      <th>3</th>\n",
       "      <td>-122.25</td>\n",
       "      <td>37.85</td>\n",
       "      <td>52.0</td>\n",
       "      <td>1274.0</td>\n",
       "      <td>NaN</td>\n",
       "      <td>558.0</td>\n",
       "      <td>219.0</td>\n",
       "      <td>5.6431</td>\n",
       "      <td>341300.0</td>\n",
       "      <td>NEAR BAY</td>\n",
       "    </tr>\n",
       "    <tr>\n",
       "      <th>4</th>\n",
       "      <td>-122.25</td>\n",
       "      <td>37.85</td>\n",
       "      <td>52.0</td>\n",
       "      <td>1627.0</td>\n",
       "      <td>280.0</td>\n",
       "      <td>565.0</td>\n",
       "      <td>259.0</td>\n",
       "      <td>3.8462</td>\n",
       "      <td>342200.0</td>\n",
       "      <td>NEAR BAY</td>\n",
       "    </tr>\n",
       "    <tr>\n",
       "      <th>5</th>\n",
       "      <td>-122.25</td>\n",
       "      <td>37.85</td>\n",
       "      <td>52.0</td>\n",
       "      <td>919.0</td>\n",
       "      <td>213.0</td>\n",
       "      <td>413.0</td>\n",
       "      <td>193.0</td>\n",
       "      <td>4.0368</td>\n",
       "      <td>269700.0</td>\n",
       "      <td>NEAR BAY</td>\n",
       "    </tr>\n",
       "    <tr>\n",
       "      <th>6</th>\n",
       "      <td>-122.25</td>\n",
       "      <td>37.84</td>\n",
       "      <td>52.0</td>\n",
       "      <td>2535.0</td>\n",
       "      <td>489.0</td>\n",
       "      <td>1094.0</td>\n",
       "      <td>514.0</td>\n",
       "      <td>3.6591</td>\n",
       "      <td>299200.0</td>\n",
       "      <td>NEAR BAY</td>\n",
       "    </tr>\n",
       "    <tr>\n",
       "      <th>7</th>\n",
       "      <td>-122.25</td>\n",
       "      <td>37.84</td>\n",
       "      <td>52.0</td>\n",
       "      <td>3104.0</td>\n",
       "      <td>687.0</td>\n",
       "      <td>1157.0</td>\n",
       "      <td>647.0</td>\n",
       "      <td>3.1200</td>\n",
       "      <td>241400.0</td>\n",
       "      <td>NEAR BAY</td>\n",
       "    </tr>\n",
       "    <tr>\n",
       "      <th>8</th>\n",
       "      <td>-122.26</td>\n",
       "      <td>37.84</td>\n",
       "      <td>42.0</td>\n",
       "      <td>2555.0</td>\n",
       "      <td>665.0</td>\n",
       "      <td>1206.0</td>\n",
       "      <td>595.0</td>\n",
       "      <td>2.0804</td>\n",
       "      <td>226700.0</td>\n",
       "      <td>NEAR BAY</td>\n",
       "    </tr>\n",
       "    <tr>\n",
       "      <th>9</th>\n",
       "      <td>-122.25</td>\n",
       "      <td>37.84</td>\n",
       "      <td>52.0</td>\n",
       "      <td>3549.0</td>\n",
       "      <td>707.0</td>\n",
       "      <td>1551.0</td>\n",
       "      <td>714.0</td>\n",
       "      <td>3.6912</td>\n",
       "      <td>261100.0</td>\n",
       "      <td>NEAR BAY</td>\n",
       "    </tr>\n",
       "  </tbody>\n",
       "</table>\n",
       "</div>"
      ],
      "text/plain": [
       "   longitude  latitude  housing_median_age  total_rooms  total_bedrooms  \\\n",
       "0    -122.23     37.88                41.0        880.0           129.0   \n",
       "1    -122.22     37.86                21.0       7099.0          1106.0   \n",
       "2    -122.24     37.85                52.0       1467.0           190.0   \n",
       "3    -122.25     37.85                52.0       1274.0             NaN   \n",
       "4    -122.25     37.85                52.0       1627.0           280.0   \n",
       "5    -122.25     37.85                52.0        919.0           213.0   \n",
       "6    -122.25     37.84                52.0       2535.0           489.0   \n",
       "7    -122.25     37.84                52.0       3104.0           687.0   \n",
       "8    -122.26     37.84                42.0       2555.0           665.0   \n",
       "9    -122.25     37.84                52.0       3549.0           707.0   \n",
       "\n",
       "   population  households  median_income  median_house_value ocean_proximity  \n",
       "0       322.0       126.0         8.3252            452600.0        NEAR BAY  \n",
       "1      2401.0      1138.0         8.3014            358500.0        NEAR BAY  \n",
       "2       496.0       177.0         7.2574            352100.0        NEAR BAY  \n",
       "3       558.0       219.0         5.6431            341300.0        NEAR BAY  \n",
       "4       565.0       259.0         3.8462            342200.0        NEAR BAY  \n",
       "5       413.0       193.0         4.0368            269700.0        NEAR BAY  \n",
       "6      1094.0       514.0         3.6591            299200.0        NEAR BAY  \n",
       "7      1157.0       647.0         3.1200            241400.0        NEAR BAY  \n",
       "8      1206.0       595.0         2.0804            226700.0        NEAR BAY  \n",
       "9      1551.0       714.0         3.6912            261100.0        NEAR BAY  "
      ]
     },
     "execution_count": 50,
     "metadata": {},
     "output_type": "execute_result"
    }
   ],
   "source": [
    "# Load the House Prices dataset from a URL\n",
    "url = \"https://raw.githubusercontent.com/khiew-tzong-yong/hf3de_m7/refs/heads/main/Dataset_with_Missing_Data_and_Duplicates.csv\"\n",
    "df = pd.read_csv(url)\n",
    "\n",
    "# Display the first few rows of the dataset\n",
    "df.head(10)\n"
   ]
  },
  {
   "cell_type": "markdown",
   "id": "61f98698",
   "metadata": {},
   "source": [
    "<h3><strong>Step 3: Feature Selection</strong></h3>\n",
    "<p>Select the features from the dataset except longitude and latutude. </p>"
   ]
  },
  {
   "cell_type": "code",
   "execution_count": 52,
   "id": "0c9c9a70",
   "metadata": {},
   "outputs": [
    {
     "data": {
      "text/html": [
       "<div>\n",
       "<style scoped>\n",
       "    .dataframe tbody tr th:only-of-type {\n",
       "        vertical-align: middle;\n",
       "    }\n",
       "\n",
       "    .dataframe tbody tr th {\n",
       "        vertical-align: top;\n",
       "    }\n",
       "\n",
       "    .dataframe thead th {\n",
       "        text-align: right;\n",
       "    }\n",
       "</style>\n",
       "<table border=\"1\" class=\"dataframe\">\n",
       "  <thead>\n",
       "    <tr style=\"text-align: right;\">\n",
       "      <th></th>\n",
       "      <th>housing_median_age</th>\n",
       "      <th>total_rooms</th>\n",
       "      <th>total_bedrooms</th>\n",
       "      <th>population</th>\n",
       "      <th>households</th>\n",
       "      <th>median_income</th>\n",
       "      <th>median_house_value</th>\n",
       "      <th>ocean_proximity</th>\n",
       "    </tr>\n",
       "  </thead>\n",
       "  <tbody>\n",
       "    <tr>\n",
       "      <th>0</th>\n",
       "      <td>41.0</td>\n",
       "      <td>880.0</td>\n",
       "      <td>129.0</td>\n",
       "      <td>322.0</td>\n",
       "      <td>126.0</td>\n",
       "      <td>8.3252</td>\n",
       "      <td>452600.0</td>\n",
       "      <td>NEAR BAY</td>\n",
       "    </tr>\n",
       "    <tr>\n",
       "      <th>1</th>\n",
       "      <td>21.0</td>\n",
       "      <td>7099.0</td>\n",
       "      <td>1106.0</td>\n",
       "      <td>2401.0</td>\n",
       "      <td>1138.0</td>\n",
       "      <td>8.3014</td>\n",
       "      <td>358500.0</td>\n",
       "      <td>NEAR BAY</td>\n",
       "    </tr>\n",
       "    <tr>\n",
       "      <th>2</th>\n",
       "      <td>52.0</td>\n",
       "      <td>1467.0</td>\n",
       "      <td>190.0</td>\n",
       "      <td>496.0</td>\n",
       "      <td>177.0</td>\n",
       "      <td>7.2574</td>\n",
       "      <td>352100.0</td>\n",
       "      <td>NEAR BAY</td>\n",
       "    </tr>\n",
       "    <tr>\n",
       "      <th>3</th>\n",
       "      <td>52.0</td>\n",
       "      <td>1274.0</td>\n",
       "      <td>NaN</td>\n",
       "      <td>558.0</td>\n",
       "      <td>219.0</td>\n",
       "      <td>5.6431</td>\n",
       "      <td>341300.0</td>\n",
       "      <td>NEAR BAY</td>\n",
       "    </tr>\n",
       "    <tr>\n",
       "      <th>4</th>\n",
       "      <td>52.0</td>\n",
       "      <td>1627.0</td>\n",
       "      <td>280.0</td>\n",
       "      <td>565.0</td>\n",
       "      <td>259.0</td>\n",
       "      <td>3.8462</td>\n",
       "      <td>342200.0</td>\n",
       "      <td>NEAR BAY</td>\n",
       "    </tr>\n",
       "    <tr>\n",
       "      <th>5</th>\n",
       "      <td>52.0</td>\n",
       "      <td>919.0</td>\n",
       "      <td>213.0</td>\n",
       "      <td>413.0</td>\n",
       "      <td>193.0</td>\n",
       "      <td>4.0368</td>\n",
       "      <td>269700.0</td>\n",
       "      <td>NEAR BAY</td>\n",
       "    </tr>\n",
       "    <tr>\n",
       "      <th>6</th>\n",
       "      <td>52.0</td>\n",
       "      <td>2535.0</td>\n",
       "      <td>489.0</td>\n",
       "      <td>1094.0</td>\n",
       "      <td>514.0</td>\n",
       "      <td>3.6591</td>\n",
       "      <td>299200.0</td>\n",
       "      <td>NEAR BAY</td>\n",
       "    </tr>\n",
       "    <tr>\n",
       "      <th>7</th>\n",
       "      <td>52.0</td>\n",
       "      <td>3104.0</td>\n",
       "      <td>687.0</td>\n",
       "      <td>1157.0</td>\n",
       "      <td>647.0</td>\n",
       "      <td>3.1200</td>\n",
       "      <td>241400.0</td>\n",
       "      <td>NEAR BAY</td>\n",
       "    </tr>\n",
       "    <tr>\n",
       "      <th>8</th>\n",
       "      <td>42.0</td>\n",
       "      <td>2555.0</td>\n",
       "      <td>665.0</td>\n",
       "      <td>1206.0</td>\n",
       "      <td>595.0</td>\n",
       "      <td>2.0804</td>\n",
       "      <td>226700.0</td>\n",
       "      <td>NEAR BAY</td>\n",
       "    </tr>\n",
       "    <tr>\n",
       "      <th>9</th>\n",
       "      <td>52.0</td>\n",
       "      <td>3549.0</td>\n",
       "      <td>707.0</td>\n",
       "      <td>1551.0</td>\n",
       "      <td>714.0</td>\n",
       "      <td>3.6912</td>\n",
       "      <td>261100.0</td>\n",
       "      <td>NEAR BAY</td>\n",
       "    </tr>\n",
       "  </tbody>\n",
       "</table>\n",
       "</div>"
      ],
      "text/plain": [
       "   housing_median_age  total_rooms  total_bedrooms  population  households  \\\n",
       "0                41.0        880.0           129.0       322.0       126.0   \n",
       "1                21.0       7099.0          1106.0      2401.0      1138.0   \n",
       "2                52.0       1467.0           190.0       496.0       177.0   \n",
       "3                52.0       1274.0             NaN       558.0       219.0   \n",
       "4                52.0       1627.0           280.0       565.0       259.0   \n",
       "5                52.0        919.0           213.0       413.0       193.0   \n",
       "6                52.0       2535.0           489.0      1094.0       514.0   \n",
       "7                52.0       3104.0           687.0      1157.0       647.0   \n",
       "8                42.0       2555.0           665.0      1206.0       595.0   \n",
       "9                52.0       3549.0           707.0      1551.0       714.0   \n",
       "\n",
       "   median_income  median_house_value ocean_proximity  \n",
       "0         8.3252            452600.0        NEAR BAY  \n",
       "1         8.3014            358500.0        NEAR BAY  \n",
       "2         7.2574            352100.0        NEAR BAY  \n",
       "3         5.6431            341300.0        NEAR BAY  \n",
       "4         3.8462            342200.0        NEAR BAY  \n",
       "5         4.0368            269700.0        NEAR BAY  \n",
       "6         3.6591            299200.0        NEAR BAY  \n",
       "7         3.1200            241400.0        NEAR BAY  \n",
       "8         2.0804            226700.0        NEAR BAY  \n",
       "9         3.6912            261100.0        NEAR BAY  "
      ]
     },
     "execution_count": 52,
     "metadata": {},
     "output_type": "execute_result"
    }
   ],
   "source": [
    "# Define a variable on selected features\n",
    "selected_features = df[['housing_median_age', 'total_rooms', 'total_bedrooms',\n",
    "                        'population', 'households', 'median_income',\n",
    "                        'median_house_value', 'ocean_proximity']]\n",
    "selected_features.head(10)"
   ]
  },
  {
   "cell_type": "markdown",
   "id": "3255f2a9",
   "metadata": {},
   "source": [
    "#### Step 3.2: Create the data frame by extracting the relevant features (including the target variable)"
   ]
  },
  {
   "cell_type": "code",
   "execution_count": 53,
   "id": "67efec1d",
   "metadata": {},
   "outputs": [
    {
     "data": {
      "text/html": [
       "<div>\n",
       "<style scoped>\n",
       "    .dataframe tbody tr th:only-of-type {\n",
       "        vertical-align: middle;\n",
       "    }\n",
       "\n",
       "    .dataframe tbody tr th {\n",
       "        vertical-align: top;\n",
       "    }\n",
       "\n",
       "    .dataframe thead th {\n",
       "        text-align: right;\n",
       "    }\n",
       "</style>\n",
       "<table border=\"1\" class=\"dataframe\">\n",
       "  <thead>\n",
       "    <tr style=\"text-align: right;\">\n",
       "      <th></th>\n",
       "      <th>housing_median_age</th>\n",
       "      <th>total_rooms</th>\n",
       "      <th>total_bedrooms</th>\n",
       "      <th>population</th>\n",
       "      <th>households</th>\n",
       "      <th>median_income</th>\n",
       "      <th>median_house_value</th>\n",
       "      <th>ocean_proximity</th>\n",
       "    </tr>\n",
       "  </thead>\n",
       "  <tbody>\n",
       "    <tr>\n",
       "      <th>0</th>\n",
       "      <td>41.0</td>\n",
       "      <td>880.0</td>\n",
       "      <td>129.0</td>\n",
       "      <td>322.0</td>\n",
       "      <td>126.0</td>\n",
       "      <td>8.3252</td>\n",
       "      <td>452600.0</td>\n",
       "      <td>NEAR BAY</td>\n",
       "    </tr>\n",
       "    <tr>\n",
       "      <th>1</th>\n",
       "      <td>21.0</td>\n",
       "      <td>7099.0</td>\n",
       "      <td>1106.0</td>\n",
       "      <td>2401.0</td>\n",
       "      <td>1138.0</td>\n",
       "      <td>8.3014</td>\n",
       "      <td>358500.0</td>\n",
       "      <td>NEAR BAY</td>\n",
       "    </tr>\n",
       "    <tr>\n",
       "      <th>2</th>\n",
       "      <td>52.0</td>\n",
       "      <td>1467.0</td>\n",
       "      <td>190.0</td>\n",
       "      <td>496.0</td>\n",
       "      <td>177.0</td>\n",
       "      <td>7.2574</td>\n",
       "      <td>352100.0</td>\n",
       "      <td>NEAR BAY</td>\n",
       "    </tr>\n",
       "    <tr>\n",
       "      <th>3</th>\n",
       "      <td>52.0</td>\n",
       "      <td>1274.0</td>\n",
       "      <td>NaN</td>\n",
       "      <td>558.0</td>\n",
       "      <td>219.0</td>\n",
       "      <td>5.6431</td>\n",
       "      <td>341300.0</td>\n",
       "      <td>NEAR BAY</td>\n",
       "    </tr>\n",
       "    <tr>\n",
       "      <th>4</th>\n",
       "      <td>52.0</td>\n",
       "      <td>1627.0</td>\n",
       "      <td>280.0</td>\n",
       "      <td>565.0</td>\n",
       "      <td>259.0</td>\n",
       "      <td>3.8462</td>\n",
       "      <td>342200.0</td>\n",
       "      <td>NEAR BAY</td>\n",
       "    </tr>\n",
       "  </tbody>\n",
       "</table>\n",
       "</div>"
      ],
      "text/plain": [
       "   housing_median_age  total_rooms  total_bedrooms  population  households  \\\n",
       "0                41.0        880.0           129.0       322.0       126.0   \n",
       "1                21.0       7099.0          1106.0      2401.0      1138.0   \n",
       "2                52.0       1467.0           190.0       496.0       177.0   \n",
       "3                52.0       1274.0             NaN       558.0       219.0   \n",
       "4                52.0       1627.0           280.0       565.0       259.0   \n",
       "\n",
       "   median_income  median_house_value ocean_proximity  \n",
       "0         8.3252            452600.0        NEAR BAY  \n",
       "1         8.3014            358500.0        NEAR BAY  \n",
       "2         7.2574            352100.0        NEAR BAY  \n",
       "3         5.6431            341300.0        NEAR BAY  \n",
       "4         3.8462            342200.0        NEAR BAY  "
      ]
     },
     "execution_count": 53,
     "metadata": {},
     "output_type": "execute_result"
    }
   ],
   "source": [
    "# Write your code here\n",
    "# Create a new DataFrame with selected features\n",
    "relevant_features = [\n",
    "    'housing_median_age', 'total_rooms', 'total_bedrooms',\n",
    "    'population', 'households', 'median_income',\n",
    "    'median_house_value',  \n",
    "    'ocean_proximity'      \n",
    "]\n",
    "\n",
    "df_selected = df[relevant_features]\n",
    "df_selected.head()"
   ]
  },
  {
   "cell_type": "markdown",
   "id": "7ed91ea0",
   "metadata": {},
   "source": [
    "<h3><strong>Step 4: Inspect the Dataset</strong></h3>\n",
    "<p>Examine the dataset to understand its structure and identify potential issues.</p>"
   ]
  },
  {
   "cell_type": "code",
   "execution_count": 54,
   "id": "aeaa1054",
   "metadata": {},
   "outputs": [
    {
     "name": "stdout",
     "output_type": "stream",
     "text": [
      "<class 'pandas.core.frame.DataFrame'>\n",
      "RangeIndex: 21672 entries, 0 to 21671\n",
      "Data columns (total 8 columns):\n",
      " #   Column              Non-Null Count  Dtype  \n",
      "---  ------              --------------  -----  \n",
      " 0   housing_median_age  21672 non-null  float64\n",
      " 1   total_rooms         21672 non-null  float64\n",
      " 2   total_bedrooms      18576 non-null  float64\n",
      " 3   population          21672 non-null  float64\n",
      " 4   households          21672 non-null  float64\n",
      " 5   median_income       21672 non-null  float64\n",
      " 6   median_house_value  21672 non-null  float64\n",
      " 7   ocean_proximity     21672 non-null  object \n",
      "dtypes: float64(7), object(1)\n",
      "memory usage: 1.3+ MB\n"
     ]
    }
   ],
   "source": [
    "# Get basic information about the dataset\n",
    "df_selected.info()"
   ]
  },
  {
   "cell_type": "code",
   "execution_count": 55,
   "id": "aaeb00fd",
   "metadata": {},
   "outputs": [
    {
     "name": "stdout",
     "output_type": "stream",
     "text": [
      "Numerical Columns Summary:\n",
      "       housing_median_age   total_rooms  total_bedrooms    population  \\\n",
      "count        21672.000000  21672.000000    18576.000000  21672.000000   \n",
      "mean            28.655362   2635.010797      537.863211   1424.642580   \n",
      "std             12.570122   2177.198036      419.157368   1127.615132   \n",
      "min              1.000000      2.000000        1.000000      3.000000   \n",
      "25%             18.000000   1448.000000      296.000000    788.000000   \n",
      "50%             29.000000   2127.000000      436.000000   1166.000000   \n",
      "75%             37.000000   3149.000000      647.000000   1724.000000   \n",
      "max             52.000000  39320.000000     6445.000000  35682.000000   \n",
      "\n",
      "         households  median_income  median_house_value  \n",
      "count  21672.000000   21672.000000        21672.000000  \n",
      "mean     499.294943       3.874639       207025.157392  \n",
      "std      381.265414       1.906372       115451.740239  \n",
      "min        1.000000       0.499900        14999.000000  \n",
      "25%      280.000000       2.566400       120000.000000  \n",
      "50%      409.000000       3.534800       179800.000000  \n",
      "75%      604.250000       4.743700       265000.000000  \n",
      "max     6082.000000      15.000100       500001.000000  \n",
      "\n",
      "Categorical Columns Summary:\n",
      "ocean_proximity\n",
      "<1H OCEAN     9607\n",
      "INLAND        6859\n",
      "NEAR OCEAN    2806\n",
      "NEAR BAY      2395\n",
      "ISLAND           5\n",
      "Name: count, dtype: int64\n"
     ]
    }
   ],
   "source": [
    "# Display summary statistics\n",
    "print(\"Numerical Columns Summary:\")\n",
    "print(df_selected.describe())\n",
    "print(\"\\nCategorical Columns Summary:\")\n",
    "print(df_selected['ocean_proximity'].value_counts())"
   ]
  },
  {
   "cell_type": "code",
   "execution_count": 56,
   "id": "c40ef6ac",
   "metadata": {},
   "outputs": [
    {
     "name": "stdout",
     "output_type": "stream",
     "text": [
      "Missing values per column:\n",
      " housing_median_age       0\n",
      "total_rooms              0\n",
      "total_bedrooms        3096\n",
      "population               0\n",
      "households               0\n",
      "median_income            0\n",
      "median_house_value       0\n",
      "ocean_proximity          0\n",
      "dtype: int64\n"
     ]
    }
   ],
   "source": [
    "# Check for missing values\n",
    "missing_values = df_selected.isnull().sum()\n",
    "print(\"Missing values per column:\\n\", missing_values)"
   ]
  },
  {
   "cell_type": "code",
   "execution_count": 57,
   "id": "b028c466",
   "metadata": {},
   "outputs": [
    {
     "name": "stdout",
     "output_type": "stream",
     "text": [
      "Number of duplicated rows: 1032\n"
     ]
    }
   ],
   "source": [
    "# Check for duplicated records\n",
    "duplicates = df_selected.duplicated()\n",
    "df_duplicates = duplicates.sum()\n",
    "print(f\"Number of duplicated rows: {df_duplicates}\")"
   ]
  },
  {
   "cell_type": "markdown",
   "id": "6c8a3bd8",
   "metadata": {},
   "source": [
    "---"
   ]
  },
  {
   "cell_type": "markdown",
   "id": "00c6dcee",
   "metadata": {},
   "source": [
    "<h2><strong>Part 2: Handling Missing Data</strong></h2>\n",
    "<h3><strong>Step 1: Identify Missing Values</strong></h3>\n",
    "<p>Determine the percentage of missing values in each column to decide on appropriate handling methods.</p>"
   ]
  },
  {
   "cell_type": "code",
   "execution_count": 58,
   "id": "fc5439d7",
   "metadata": {},
   "outputs": [
    {
     "name": "stdout",
     "output_type": "stream",
     "text": [
      "Percentage of missing values per column:\n",
      "\n",
      "housing_median_age     0.000000\n",
      "total_rooms            0.000000\n",
      "total_bedrooms        14.285714\n",
      "population             0.000000\n",
      "households             0.000000\n",
      "median_income          0.000000\n",
      "median_house_value     0.000000\n",
      "ocean_proximity        0.000000\n",
      "dtype: float64\n"
     ]
    }
   ],
   "source": [
    "# Calculate the percentage of missing values per column\n",
    "missing_percent = (df_selected.isnull().sum() / len(df_selected)) * 100\n",
    "print(\"Percentage of missing values per column:\\n\")\n",
    "print(missing_percent)"
   ]
  },
  {
   "cell_type": "markdown",
   "id": "9a7d759e",
   "metadata": {},
   "source": [
    "<h3><strong>Step 2: Filling Missing Values</strong></h3>\n",
    "<p>Decide on strategies to handle missing data based on the nature of each column.</p>\n",
    "<ul>\n",
    "<li><strong>Numerical Columns:</strong> You might fill missing values with the median or mean.</li>\n",
    "</ul>"
   ]
  },
  {
   "cell_type": "code",
   "execution_count": 59,
   "id": "7c2b99eb",
   "metadata": {},
   "outputs": [],
   "source": [
    "# Fill missing values in with the median or mean\n",
    "imputer_mean = SimpleImputer(strategy='mean')\n",
    "df['total_bedrooms'] = imputer_mean.fit_transform(df[['total_bedrooms']])"
   ]
  },
  {
   "cell_type": "markdown",
   "id": "2c57ea0f",
   "metadata": {},
   "source": [
    "<h3><strong>Step 4: Verify Missing Values Have Been Handled</strong></h3>\n",
    "<p>Check to confirm that missing values have been appropriately addressed.</p>"
   ]
  },
  {
   "cell_type": "code",
   "execution_count": 60,
   "id": "fbe44644",
   "metadata": {},
   "outputs": [
    {
     "name": "stdout",
     "output_type": "stream",
     "text": [
      "Missing values in each column:\n",
      "longitude             0\n",
      "latitude              0\n",
      "housing_median_age    0\n",
      "total_rooms           0\n",
      "total_bedrooms        0\n",
      "population            0\n",
      "households            0\n",
      "median_income         0\n",
      "median_house_value    0\n",
      "ocean_proximity       0\n",
      "dtype: int64\n"
     ]
    }
   ],
   "source": [
    "# Recheck missing values\n",
    "print(\"Missing values in each column:\")\n",
    "print(df.isnull().sum())"
   ]
  },
  {
   "cell_type": "markdown",
   "id": "48b0d057",
   "metadata": {},
   "source": [
    "---"
   ]
  },
  {
   "cell_type": "markdown",
   "id": "d446af35",
   "metadata": {},
   "source": [
    "<h2><strong>Part 3: Removing Duplicate Records</strong></h2>\n",
    "<p>Duplicate entries can skew your analysis. Ensure the dataset is free from duplicates.</p>"
   ]
  },
  {
   "cell_type": "code",
   "execution_count": 61,
   "id": "bc74482c",
   "metadata": {},
   "outputs": [
    {
     "name": "stdout",
     "output_type": "stream",
     "text": [
      "Number of duplicate rows: 1032\n"
     ]
    }
   ],
   "source": [
    "# Check for duplicate rows\n",
    "duplicate_rows=df.duplicated().sum()\n",
    "print(f\"Number of duplicate rows: {duplicate_rows}\")"
   ]
  },
  {
   "cell_type": "code",
   "execution_count": 62,
   "id": "be97c9cd",
   "metadata": {},
   "outputs": [],
   "source": [
    "# Remove duplicate rows if any\n",
    "df_cleaned = df.drop_duplicates()"
   ]
  },
  {
   "cell_type": "code",
   "execution_count": 63,
   "id": "96b97fbc",
   "metadata": {},
   "outputs": [
    {
     "data": {
      "text/plain": [
       "(20640, 10)"
      ]
     },
     "execution_count": 63,
     "metadata": {},
     "output_type": "execute_result"
    }
   ],
   "source": [
    "# Verify that duplicate record are removed\n",
    "df_cleaned.shape"
   ]
  },
  {
   "cell_type": "markdown",
   "id": "15049a40",
   "metadata": {},
   "source": [
    "---"
   ]
  },
  {
   "cell_type": "markdown",
   "id": "a431bf92",
   "metadata": {},
   "source": [
    "<h2><strong>Part 4: Basic Data Formatting</strong></h2>"
   ]
  },
  {
   "cell_type": "markdown",
   "id": "a5ca8726",
   "metadata": {},
   "source": [
    "<h3><strong>Step 1: Converting Data Types</strong></h3>\n",
    "<p>Ensure that each column has the appropriate data type for analysis.</p>"
   ]
  },
  {
   "cell_type": "code",
   "execution_count": 64,
   "id": "b3d6c53d",
   "metadata": {},
   "outputs": [
    {
     "name": "stdout",
     "output_type": "stream",
     "text": [
      "longitude              float64\n",
      "latitude               float64\n",
      "housing_median_age     float64\n",
      "total_rooms            float64\n",
      "total_bedrooms         float64\n",
      "population             float64\n",
      "households             float64\n",
      "median_income          float64\n",
      "median_house_value     float64\n",
      "ocean_proximity       category\n",
      "dtype: object\n"
     ]
    }
   ],
   "source": [
    "# Convert 'median_income' to float if not already\n",
    "df['median_income'] = df['median_income'].astype(float)\n",
    "\n",
    "# Convert categorical columns (ocean_proximity) to 'category' data type\n",
    "df['ocean_proximity'] = df['ocean_proximity'].astype('category')\n",
    "\n",
    "# Verify all column data types\n",
    "print(df.dtypes)"
   ]
  },
  {
   "cell_type": "markdown",
   "id": "402dceb7",
   "metadata": {},
   "source": [
    "<h3><strong>Step 2: Renaming Columns</strong></h3>\n",
    "<p>Rename columns to improve readability and consistency. All columns name must be rename in camel case convention.</p>"
   ]
  },
  {
   "cell_type": "code",
   "execution_count": 65,
   "id": "085a1bbe",
   "metadata": {},
   "outputs": [
    {
     "name": "stdout",
     "output_type": "stream",
     "text": [
      "Index(['longitude', 'latitude', 'housing_median_age', 'total_rooms',\n",
      "       'total_bedrooms', 'population', 'households', 'median_income',\n",
      "       'median_house_value', 'ocean_proximity'],\n",
      "      dtype='object')\n"
     ]
    }
   ],
   "source": [
    "# Display current column name\n",
    "print(df.columns)"
   ]
  },
  {
   "cell_type": "code",
   "execution_count": 66,
   "id": "b4c7a7f9",
   "metadata": {},
   "outputs": [
    {
     "name": "stdout",
     "output_type": "stream",
     "text": [
      "Index(['longitude', 'latitude', 'housingMedianAge', 'totalRooms',\n",
      "       'totalBedrooms', 'population', 'households', 'medianIncome',\n",
      "       'medianHouseValue', 'oceanProximity'],\n",
      "      dtype='object')\n"
     ]
    }
   ],
   "source": [
    "# Rename column name in camel case convention\n",
    "df.rename(columns={\n",
    "    'longitude': 'longitude',\n",
    "    'latitude': 'latitude',\n",
    "    'housing_median_age': 'housingMedianAge',\n",
    "    'total_rooms': 'totalRooms',\n",
    "    'total_bedrooms': 'totalBedrooms',\n",
    "    'population': 'population',\n",
    "    'households': 'households',\n",
    "    'median_income': 'medianIncome',\n",
    "    'median_house_value': 'medianHouseValue',\n",
    "    'ocean_proximity': 'oceanProximity'\n",
    "}, inplace=True)\n",
    "\n",
    "# Check updated column names\n",
    "print(df.columns)"
   ]
  },
  {
   "cell_type": "code",
   "execution_count": 67,
   "id": "1fc89c47",
   "metadata": {
    "scrolled": true
   },
   "outputs": [
    {
     "name": "stdout",
     "output_type": "stream",
     "text": [
      "Index(['longitude', 'latitude', 'housingMedianAge', 'totalRooms',\n",
      "       'totalBedrooms', 'population', 'households', 'medianIncome',\n",
      "       'medianHouseValue', 'oceanProximity'],\n",
      "      dtype='object')\n"
     ]
    }
   ],
   "source": [
    "# Display new column names\n",
    "print(df.columns)\n"
   ]
  },
  {
   "cell_type": "markdown",
   "id": "edfb538f",
   "metadata": {},
   "source": [
    "---"
   ]
  },
  {
   "cell_type": "markdown",
   "id": "06d390c4",
   "metadata": {},
   "source": [
    "<h2 id=\"Part-5:-Removing-Unnecessary-Columns\"><strong>Part 5: Removing Unnecessary Columns</strong></h2>\n",
    "<p>Drop the '<span style=\"font-family: monospace; font-size: 14px; white-space-collapse: preserve;\">ocean_proximity' column.<br /></span></p>"
   ]
  },
  {
   "cell_type": "code",
   "execution_count": 68,
   "id": "638d9136",
   "metadata": {},
   "outputs": [
    {
     "data": {
      "text/html": [
       "<div>\n",
       "<style scoped>\n",
       "    .dataframe tbody tr th:only-of-type {\n",
       "        vertical-align: middle;\n",
       "    }\n",
       "\n",
       "    .dataframe tbody tr th {\n",
       "        vertical-align: top;\n",
       "    }\n",
       "\n",
       "    .dataframe thead th {\n",
       "        text-align: right;\n",
       "    }\n",
       "</style>\n",
       "<table border=\"1\" class=\"dataframe\">\n",
       "  <thead>\n",
       "    <tr style=\"text-align: right;\">\n",
       "      <th></th>\n",
       "      <th>longitude</th>\n",
       "      <th>latitude</th>\n",
       "      <th>housingMedianAge</th>\n",
       "      <th>totalRooms</th>\n",
       "      <th>totalBedrooms</th>\n",
       "      <th>population</th>\n",
       "      <th>households</th>\n",
       "      <th>medianIncome</th>\n",
       "      <th>medianHouseValue</th>\n",
       "    </tr>\n",
       "  </thead>\n",
       "  <tbody>\n",
       "    <tr>\n",
       "      <th>0</th>\n",
       "      <td>-122.23</td>\n",
       "      <td>37.88</td>\n",
       "      <td>41.0</td>\n",
       "      <td>880.0</td>\n",
       "      <td>129.000000</td>\n",
       "      <td>322.0</td>\n",
       "      <td>126.0</td>\n",
       "      <td>8.3252</td>\n",
       "      <td>452600.0</td>\n",
       "    </tr>\n",
       "    <tr>\n",
       "      <th>1</th>\n",
       "      <td>-122.22</td>\n",
       "      <td>37.86</td>\n",
       "      <td>21.0</td>\n",
       "      <td>7099.0</td>\n",
       "      <td>1106.000000</td>\n",
       "      <td>2401.0</td>\n",
       "      <td>1138.0</td>\n",
       "      <td>8.3014</td>\n",
       "      <td>358500.0</td>\n",
       "    </tr>\n",
       "    <tr>\n",
       "      <th>2</th>\n",
       "      <td>-122.24</td>\n",
       "      <td>37.85</td>\n",
       "      <td>52.0</td>\n",
       "      <td>1467.0</td>\n",
       "      <td>190.000000</td>\n",
       "      <td>496.0</td>\n",
       "      <td>177.0</td>\n",
       "      <td>7.2574</td>\n",
       "      <td>352100.0</td>\n",
       "    </tr>\n",
       "    <tr>\n",
       "      <th>3</th>\n",
       "      <td>-122.25</td>\n",
       "      <td>37.85</td>\n",
       "      <td>52.0</td>\n",
       "      <td>1274.0</td>\n",
       "      <td>537.863211</td>\n",
       "      <td>558.0</td>\n",
       "      <td>219.0</td>\n",
       "      <td>5.6431</td>\n",
       "      <td>341300.0</td>\n",
       "    </tr>\n",
       "    <tr>\n",
       "      <th>4</th>\n",
       "      <td>-122.25</td>\n",
       "      <td>37.85</td>\n",
       "      <td>52.0</td>\n",
       "      <td>1627.0</td>\n",
       "      <td>280.000000</td>\n",
       "      <td>565.0</td>\n",
       "      <td>259.0</td>\n",
       "      <td>3.8462</td>\n",
       "      <td>342200.0</td>\n",
       "    </tr>\n",
       "    <tr>\n",
       "      <th>5</th>\n",
       "      <td>-122.25</td>\n",
       "      <td>37.85</td>\n",
       "      <td>52.0</td>\n",
       "      <td>919.0</td>\n",
       "      <td>213.000000</td>\n",
       "      <td>413.0</td>\n",
       "      <td>193.0</td>\n",
       "      <td>4.0368</td>\n",
       "      <td>269700.0</td>\n",
       "    </tr>\n",
       "    <tr>\n",
       "      <th>6</th>\n",
       "      <td>-122.25</td>\n",
       "      <td>37.84</td>\n",
       "      <td>52.0</td>\n",
       "      <td>2535.0</td>\n",
       "      <td>489.000000</td>\n",
       "      <td>1094.0</td>\n",
       "      <td>514.0</td>\n",
       "      <td>3.6591</td>\n",
       "      <td>299200.0</td>\n",
       "    </tr>\n",
       "    <tr>\n",
       "      <th>7</th>\n",
       "      <td>-122.25</td>\n",
       "      <td>37.84</td>\n",
       "      <td>52.0</td>\n",
       "      <td>3104.0</td>\n",
       "      <td>687.000000</td>\n",
       "      <td>1157.0</td>\n",
       "      <td>647.0</td>\n",
       "      <td>3.1200</td>\n",
       "      <td>241400.0</td>\n",
       "    </tr>\n",
       "    <tr>\n",
       "      <th>8</th>\n",
       "      <td>-122.26</td>\n",
       "      <td>37.84</td>\n",
       "      <td>42.0</td>\n",
       "      <td>2555.0</td>\n",
       "      <td>665.000000</td>\n",
       "      <td>1206.0</td>\n",
       "      <td>595.0</td>\n",
       "      <td>2.0804</td>\n",
       "      <td>226700.0</td>\n",
       "    </tr>\n",
       "    <tr>\n",
       "      <th>9</th>\n",
       "      <td>-122.25</td>\n",
       "      <td>37.84</td>\n",
       "      <td>52.0</td>\n",
       "      <td>3549.0</td>\n",
       "      <td>707.000000</td>\n",
       "      <td>1551.0</td>\n",
       "      <td>714.0</td>\n",
       "      <td>3.6912</td>\n",
       "      <td>261100.0</td>\n",
       "    </tr>\n",
       "  </tbody>\n",
       "</table>\n",
       "</div>"
      ],
      "text/plain": [
       "   longitude  latitude  housingMedianAge  totalRooms  totalBedrooms  \\\n",
       "0    -122.23     37.88              41.0       880.0     129.000000   \n",
       "1    -122.22     37.86              21.0      7099.0    1106.000000   \n",
       "2    -122.24     37.85              52.0      1467.0     190.000000   \n",
       "3    -122.25     37.85              52.0      1274.0     537.863211   \n",
       "4    -122.25     37.85              52.0      1627.0     280.000000   \n",
       "5    -122.25     37.85              52.0       919.0     213.000000   \n",
       "6    -122.25     37.84              52.0      2535.0     489.000000   \n",
       "7    -122.25     37.84              52.0      3104.0     687.000000   \n",
       "8    -122.26     37.84              42.0      2555.0     665.000000   \n",
       "9    -122.25     37.84              52.0      3549.0     707.000000   \n",
       "\n",
       "   population  households  medianIncome  medianHouseValue  \n",
       "0       322.0       126.0        8.3252          452600.0  \n",
       "1      2401.0      1138.0        8.3014          358500.0  \n",
       "2       496.0       177.0        7.2574          352100.0  \n",
       "3       558.0       219.0        5.6431          341300.0  \n",
       "4       565.0       259.0        3.8462          342200.0  \n",
       "5       413.0       193.0        4.0368          269700.0  \n",
       "6      1094.0       514.0        3.6591          299200.0  \n",
       "7      1157.0       647.0        3.1200          241400.0  \n",
       "8      1206.0       595.0        2.0804          226700.0  \n",
       "9      1551.0       714.0        3.6912          261100.0  "
      ]
     },
     "execution_count": 68,
     "metadata": {},
     "output_type": "execute_result"
    }
   ],
   "source": [
    "# Drop the columns\n",
    "updated_df = df.drop(columns=['oceanProximity'])\n",
    "# Verify that columns are removed\n",
    "updated_df.head(10)"
   ]
  },
  {
   "cell_type": "markdown",
   "id": "9c872648",
   "metadata": {},
   "source": [
    "---"
   ]
  },
  {
   "cell_type": "markdown",
   "id": "f68b5f53",
   "metadata": {},
   "source": [
    "<h2 id=\"Part-7:-Saving-the-Cleaned-Dataset\"><strong>Part 7: Saving the Cleaned Dataset</strong></h2>\n",
    "<p>Save your cleaned and formatted dataset as 'housing_cleaned.csv'</p>"
   ]
  },
  {
   "cell_type": "code",
   "execution_count": 69,
   "id": "11c62c8f",
   "metadata": {},
   "outputs": [
    {
     "name": "stdout",
     "output_type": "stream",
     "text": [
      "Cleaned dataset saved as 'housepricing.csv'\n"
     ]
    }
   ],
   "source": [
    "# Save the cleaned dataset to a new CSV file\n",
    "updated_df.to_csv(\"housepricing.csv\", index=False)\n",
    "print(\"Cleaned dataset saved as 'housepricing.csv'\")"
   ]
  },
  {
   "cell_type": "markdown",
   "id": "3ccd0e0d",
   "metadata": {},
   "source": [
    "---"
   ]
  },
  {
   "cell_type": "markdown",
   "id": "5c976523",
   "metadata": {},
   "source": [
    "# Submission:\n",
    "Submit all files to myConnexion. Rename the file as IndexNo_Name_MockTest."
   ]
  },
  {
   "cell_type": "code",
   "execution_count": null,
   "id": "5b147ddb",
   "metadata": {},
   "outputs": [],
   "source": []
  },
  {
   "cell_type": "code",
   "execution_count": null,
   "id": "a19417b4",
   "metadata": {},
   "outputs": [],
   "source": []
  }
 ],
 "metadata": {
  "kernelspec": {
   "display_name": "Python 3 (ipykernel)",
   "language": "python",
   "name": "python3"
  },
  "language_info": {
   "codemirror_mode": {
    "name": "ipython",
    "version": 3
   },
   "file_extension": ".py",
   "mimetype": "text/x-python",
   "name": "python",
   "nbconvert_exporter": "python",
   "pygments_lexer": "ipython3",
   "version": "3.11.5"
  },
  "varInspector": {
   "cols": {
    "lenName": 16,
    "lenType": 16,
    "lenVar": 40
   },
   "kernels_config": {
    "python": {
     "delete_cmd_postfix": "",
     "delete_cmd_prefix": "del ",
     "library": "var_list.py",
     "varRefreshCmd": "print(var_dic_list())"
    },
    "r": {
     "delete_cmd_postfix": ") ",
     "delete_cmd_prefix": "rm(",
     "library": "var_list.r",
     "varRefreshCmd": "cat(var_dic_list()) "
    }
   },
   "types_to_exclude": [
    "module",
    "function",
    "builtin_function_or_method",
    "instance",
    "_Feature"
   ],
   "window_display": false
  }
 },
 "nbformat": 4,
 "nbformat_minor": 5
}
