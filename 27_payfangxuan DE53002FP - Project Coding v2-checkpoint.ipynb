{
 "cells": [
  {
   "cell_type": "markdown",
   "id": "fe3a6a1c",
   "metadata": {},
   "source": [
    "<h1 id=\"Higher-NITEC-in-Data-Engineering\" style=\"text-align: center;\">Higher NITEC in Data Engineering</h1>\n",
    "<h1 id=\"DE53002FP---Data-Preparation-for-Machine-Learning\" style=\"text-align: center;\">DE53002FP - Data Preparation for Machine Learning</h1>\n",
    "<p><br /><br /></p>\n",
    "<h2 id=\"Project\" style=\"text-align: center;\">Project</h2>\n",
    "<p>&nbsp;</p>\n",
    "<h3 id=\"Data-Preparation-for-Enhancing-Retail-Companies'-Marketing-Strategies\" style=\"font-family: 'Helvetica Neue', Helvetica, Arial, sans-serif; font-weight: bold; line-height: 1; color: #000000; margin: 1.55em 0px 0px; font-size: 18.004px; text-align: center;\">Data Preparation for Enhancing Retail Companies' Marketing Strategies</h3>"
   ]
  },
  {
   "cell_type": "markdown",
   "id": "8a08ce58",
   "metadata": {},
   "source": [
    "---"
   ]
  },
  {
   "cell_type": "markdown",
   "id": "468406c1",
   "metadata": {},
   "source": [
    "## Scenarios:\n",
    "You are a data analyst at a consultancy firm specializing in enhancing retail companies' marketing strategies and sales through insights into customer behavior and trends. Your current assignment involves preparing data for a machine learning model that predicts customer purchasing patterns. This model will enable your clients to tailor their marketing efforts and optimize inventory management across different segments of their customer base.\n",
    "\n",
    "The data at your disposal includes transactional records featuring customer demographics, product information, purchase quantity, pricing, and the venues where transactions took place. Your goal is to select and prepare the most relevant features from this dataset to ensure the predictive model performs effectively."
   ]
  },
  {
   "cell_type": "markdown",
   "id": "9d1b3e3d",
   "metadata": {},
   "source": [
    "---"
   ]
  },
  {
   "cell_type": "markdown",
   "id": "1a3959f1",
   "metadata": {},
   "source": [
    "<h3 id=\"Dataset:\" style=\"font-family: 'Helvetica Neue', Helvetica, Arial, sans-serif; color: #000000;\">Dataset:</h3>\n",
    "<p style=\"padding-left: 40px;\"><strong>invoice_no</strong>: Invoice number. A combination of the letter 'I' and a 6-digit integer uniquely assigned to each operation.</p>\n",
    "<p style=\"padding-left: 40px;\"><strong>customer_id</strong>: Customer number. A combination of the letter 'C' and a 6-digit integer uniquely assigned to each operation.</p>\n",
    "<p style=\"padding-left: 40px;\"><strong>gender</strong>: String variable of the customer's gender.</p>\n",
    "<p style=\"padding-left: 40px;\"><strong>age</strong>: Positive Integer variable of the customers' age.</p>\n",
    "<p style=\"padding-left: 40px;\"><strong>product_category</strong>: String variable of the category of the purchased product.</p>\n",
    "<p style=\"padding-left: 40px;\"><strong>quantity</strong>: The quantities of each product (item) per transaction. Numeric.</p>\n",
    "<p style=\"padding-left: 40px;\"><strong>sales_price</strong>: Unit price. Numeric. Product price per unit in Turkish Liras (TL).</p>\n",
    "<p style=\"padding-left: 40px;\"><strong>payment_method</strong>: String variable of the payment method (cash, credit card or debit card) used for the transaction.</p>\n",
    "<p style=\"padding-left: 40px;\"><strong>invoice_date</strong>: Invoice date. The day when a transaction was generated.</p>\n",
    "<p style=\"padding-left: 40px;\"><strong>shopping_mall</strong>: String variable of the name of the shopping mall where the transaction was made.</p>"
   ]
  },
  {
   "cell_type": "markdown",
   "id": "bbd01f42",
   "metadata": {},
   "source": [
    "---"
   ]
  },
  {
   "cell_type": "markdown",
   "id": "822e3b83",
   "metadata": {},
   "source": [
    "## Objectives\n",
    "- Interpret the problem statement to understand the data preparation requirements.\n",
    "- Import and explore the dataset using Python and Jupyter Notebook.\n",
    "- Identify and correct errors, including handling missing data and standardizing categorical variables.\n",
    "- Detect and handle outliers in the data using appropriate plots.\n",
    "- Visualise interrelationships between variables to uncover potential insights.\n",
    "- Perform data masking to protect sensitive information.\n",
    "- Create dummy variables for categorical data to prepare for analysis."
   ]
  },
  {
   "cell_type": "markdown",
   "id": "d3e7acd2",
   "metadata": {},
   "source": [
    "---"
   ]
  },
  {
   "cell_type": "markdown",
   "id": "41180b4c",
   "metadata": {},
   "source": [
    "## Task 1: Import Data from Data Sources "
   ]
  },
  {
   "cell_type": "markdown",
   "id": "ea1affe6",
   "metadata": {},
   "source": [
    "### Task 1.1 Load the necessary libraries."
   ]
  },
  {
   "cell_type": "code",
   "execution_count": 1,
   "id": "d6a9c541",
   "metadata": {},
   "outputs": [],
   "source": [
    "# load the necessary libraries\n",
    "\n",
    "import pandas as pd\n",
    "import numpy as np\n",
    "import matplotlib.pyplot as plt\n",
    "import seaborn as sns\n",
    "from sklearn.impute import SimpleImputer"
   ]
  },
  {
   "cell_type": "markdown",
   "id": "70704753",
   "metadata": {},
   "source": [
    "### Task 1.2 Import dataset"
   ]
  },
  {
   "cell_type": "code",
   "execution_count": 2,
   "id": "75c337a5",
   "metadata": {},
   "outputs": [
    {
     "data": {
      "text/html": [
       "<div>\n",
       "<style scoped>\n",
       "    .dataframe tbody tr th:only-of-type {\n",
       "        vertical-align: middle;\n",
       "    }\n",
       "\n",
       "    .dataframe tbody tr th {\n",
       "        vertical-align: top;\n",
       "    }\n",
       "\n",
       "    .dataframe thead th {\n",
       "        text-align: right;\n",
       "    }\n",
       "</style>\n",
       "<table border=\"1\" class=\"dataframe\">\n",
       "  <thead>\n",
       "    <tr style=\"text-align: right;\">\n",
       "      <th></th>\n",
       "      <th>invoice_no</th>\n",
       "      <th>customer_id</th>\n",
       "      <th>gender</th>\n",
       "      <th>age</th>\n",
       "      <th>product_category</th>\n",
       "      <th>quantity</th>\n",
       "      <th>sales_price</th>\n",
       "      <th>payment_method</th>\n",
       "      <th>invoice_date</th>\n",
       "      <th>shopping_mall</th>\n",
       "    </tr>\n",
       "  </thead>\n",
       "  <tbody>\n",
       "    <tr>\n",
       "      <th>0</th>\n",
       "      <td>I138884</td>\n",
       "      <td>C241288</td>\n",
       "      <td>Female</td>\n",
       "      <td>28</td>\n",
       "      <td>Clothing</td>\n",
       "      <td>5</td>\n",
       "      <td>1500.40</td>\n",
       "      <td>Credit Card</td>\n",
       "      <td>5/8/2022</td>\n",
       "      <td>Kanyon</td>\n",
       "    </tr>\n",
       "    <tr>\n",
       "      <th>1</th>\n",
       "      <td>I317333</td>\n",
       "      <td>C111565</td>\n",
       "      <td>Male</td>\n",
       "      <td>21</td>\n",
       "      <td>Shoes</td>\n",
       "      <td>3</td>\n",
       "      <td>1800.51</td>\n",
       "      <td>Debit Card</td>\n",
       "      <td>12/12/2021</td>\n",
       "      <td>Forum Istanbul</td>\n",
       "    </tr>\n",
       "    <tr>\n",
       "      <th>2</th>\n",
       "      <td>I127801</td>\n",
       "      <td>C266599</td>\n",
       "      <td>Male</td>\n",
       "      <td>20</td>\n",
       "      <td>Clothing</td>\n",
       "      <td>1</td>\n",
       "      <td>300.08</td>\n",
       "      <td>Cash</td>\n",
       "      <td>9/11/2021</td>\n",
       "      <td>Metrocity</td>\n",
       "    </tr>\n",
       "    <tr>\n",
       "      <th>3</th>\n",
       "      <td>I173702</td>\n",
       "      <td>C988172</td>\n",
       "      <td>Female</td>\n",
       "      <td>66</td>\n",
       "      <td>Shoes</td>\n",
       "      <td>5</td>\n",
       "      <td>3000.85</td>\n",
       "      <td>Credit Card</td>\n",
       "      <td>16/05/2021</td>\n",
       "      <td>Metropol AVM</td>\n",
       "    </tr>\n",
       "    <tr>\n",
       "      <th>4</th>\n",
       "      <td>I337046</td>\n",
       "      <td>C189076</td>\n",
       "      <td>Female</td>\n",
       "      <td>53</td>\n",
       "      <td>Books</td>\n",
       "      <td>4</td>\n",
       "      <td>60.60</td>\n",
       "      <td>Cash</td>\n",
       "      <td>24/10/2021</td>\n",
       "      <td>Kanyon</td>\n",
       "    </tr>\n",
       "  </tbody>\n",
       "</table>\n",
       "</div>"
      ],
      "text/plain": [
       "  invoice_no customer_id  gender  age product_category  quantity  sales_price  \\\n",
       "0    I138884     C241288  Female   28         Clothing         5      1500.40   \n",
       "1    I317333     C111565    Male   21            Shoes         3      1800.51   \n",
       "2    I127801     C266599    Male   20         Clothing         1       300.08   \n",
       "3    I173702     C988172  Female   66            Shoes         5      3000.85   \n",
       "4    I337046     C189076  Female   53            Books         4        60.60   \n",
       "\n",
       "  payment_method invoice_date   shopping_mall  \n",
       "0    Credit Card     5/8/2022          Kanyon  \n",
       "1     Debit Card   12/12/2021  Forum Istanbul  \n",
       "2           Cash    9/11/2021       Metrocity  \n",
       "3    Credit Card   16/05/2021    Metropol AVM  \n",
       "4           Cash   24/10/2021          Kanyon  "
      ]
     },
     "execution_count": 2,
     "metadata": {},
     "output_type": "execute_result"
    }
   ],
   "source": [
    "url = \"https://raw.githubusercontent.com/khiew-tzong-yong/hf3de_m7/refs/heads/main/customer_shopping_data.csv\"\n",
    "\n",
    "# Import the dataset\n",
    "df = pd.read_csv(url)\n",
    "\n",
    "# Display first few rows\n",
    "df.head()"
   ]
  },
  {
   "cell_type": "markdown",
   "id": "0ecbf52c",
   "metadata": {},
   "source": [
    "---"
   ]
  },
  {
   "cell_type": "markdown",
   "id": "ea9d7ae7",
   "metadata": {},
   "source": [
    "## Task 2: Replace Sensitive Data Using Masking Technique"
   ]
  },
  {
   "cell_type": "markdown",
   "id": "f6275425",
   "metadata": {},
   "source": [
    "### Task 2.1 Anonymize sensitive information in the dataset.\n",
    "Before you do any analysis, you must perform data masking on the sensitive data ID (eg: customer_id)."
   ]
  },
  {
   "cell_type": "code",
   "execution_count": 3,
   "id": "0d1f4715",
   "metadata": {},
   "outputs": [
    {
     "data": {
      "text/html": [
       "<div>\n",
       "<style scoped>\n",
       "    .dataframe tbody tr th:only-of-type {\n",
       "        vertical-align: middle;\n",
       "    }\n",
       "\n",
       "    .dataframe tbody tr th {\n",
       "        vertical-align: top;\n",
       "    }\n",
       "\n",
       "    .dataframe thead th {\n",
       "        text-align: right;\n",
       "    }\n",
       "</style>\n",
       "<table border=\"1\" class=\"dataframe\">\n",
       "  <thead>\n",
       "    <tr style=\"text-align: right;\">\n",
       "      <th></th>\n",
       "      <th>invoice_no</th>\n",
       "      <th>customer_id</th>\n",
       "      <th>gender</th>\n",
       "      <th>age</th>\n",
       "      <th>product_category</th>\n",
       "      <th>quantity</th>\n",
       "      <th>sales_price</th>\n",
       "      <th>payment_method</th>\n",
       "      <th>invoice_date</th>\n",
       "      <th>shopping_mall</th>\n",
       "    </tr>\n",
       "  </thead>\n",
       "  <tbody>\n",
       "    <tr>\n",
       "      <th>0</th>\n",
       "      <td>I138884</td>\n",
       "      <td>1</td>\n",
       "      <td>Female</td>\n",
       "      <td>28</td>\n",
       "      <td>Clothing</td>\n",
       "      <td>5</td>\n",
       "      <td>1500.40</td>\n",
       "      <td>Credit Card</td>\n",
       "      <td>5/8/2022</td>\n",
       "      <td>Kanyon</td>\n",
       "    </tr>\n",
       "    <tr>\n",
       "      <th>1</th>\n",
       "      <td>I317333</td>\n",
       "      <td>2</td>\n",
       "      <td>Male</td>\n",
       "      <td>21</td>\n",
       "      <td>Shoes</td>\n",
       "      <td>3</td>\n",
       "      <td>1800.51</td>\n",
       "      <td>Debit Card</td>\n",
       "      <td>12/12/2021</td>\n",
       "      <td>Forum Istanbul</td>\n",
       "    </tr>\n",
       "    <tr>\n",
       "      <th>2</th>\n",
       "      <td>I127801</td>\n",
       "      <td>3</td>\n",
       "      <td>Male</td>\n",
       "      <td>20</td>\n",
       "      <td>Clothing</td>\n",
       "      <td>1</td>\n",
       "      <td>300.08</td>\n",
       "      <td>Cash</td>\n",
       "      <td>9/11/2021</td>\n",
       "      <td>Metrocity</td>\n",
       "    </tr>\n",
       "    <tr>\n",
       "      <th>3</th>\n",
       "      <td>I173702</td>\n",
       "      <td>4</td>\n",
       "      <td>Female</td>\n",
       "      <td>66</td>\n",
       "      <td>Shoes</td>\n",
       "      <td>5</td>\n",
       "      <td>3000.85</td>\n",
       "      <td>Credit Card</td>\n",
       "      <td>16/05/2021</td>\n",
       "      <td>Metropol AVM</td>\n",
       "    </tr>\n",
       "    <tr>\n",
       "      <th>4</th>\n",
       "      <td>I337046</td>\n",
       "      <td>5</td>\n",
       "      <td>Female</td>\n",
       "      <td>53</td>\n",
       "      <td>Books</td>\n",
       "      <td>4</td>\n",
       "      <td>60.60</td>\n",
       "      <td>Cash</td>\n",
       "      <td>24/10/2021</td>\n",
       "      <td>Kanyon</td>\n",
       "    </tr>\n",
       "  </tbody>\n",
       "</table>\n",
       "</div>"
      ],
      "text/plain": [
       "  invoice_no  customer_id  gender  age product_category  quantity  \\\n",
       "0    I138884            1  Female   28         Clothing         5   \n",
       "1    I317333            2    Male   21            Shoes         3   \n",
       "2    I127801            3    Male   20         Clothing         1   \n",
       "3    I173702            4  Female   66            Shoes         5   \n",
       "4    I337046            5  Female   53            Books         4   \n",
       "\n",
       "   sales_price payment_method invoice_date   shopping_mall  \n",
       "0      1500.40    Credit Card     5/8/2022          Kanyon  \n",
       "1      1800.51     Debit Card   12/12/2021  Forum Istanbul  \n",
       "2       300.08           Cash    9/11/2021       Metrocity  \n",
       "3      3000.85    Credit Card   16/05/2021    Metropol AVM  \n",
       "4        60.60           Cash   24/10/2021          Kanyon  "
      ]
     },
     "execution_count": 3,
     "metadata": {},
     "output_type": "execute_result"
    }
   ],
   "source": [
    "# perfrom data masking\n",
    "df['customer_id'] = range(1, len(df) + 1)\n",
    "df.head()"
   ]
  },
  {
   "cell_type": "markdown",
   "id": "9fd44bf3",
   "metadata": {},
   "source": [
    "---"
   ]
  },
  {
   "cell_type": "markdown",
   "id": "3b1ac4d8",
   "metadata": {},
   "source": [
    "## Task 3: Interpret the Given Problem Statement Correctly "
   ]
  },
  {
   "cell_type": "markdown",
   "id": "ea4fba02",
   "metadata": {},
   "source": [
    "### Task 3.1: Based on the problem statement, the objective could be to analyze customer shopping patterns. List the relevant columns for this analysis."
   ]
  },
  {
   "cell_type": "code",
   "execution_count": 4,
   "id": "755a163d",
   "metadata": {},
   "outputs": [],
   "source": [
    "# columns name (write your answer here)\n",
    "# 1. invoice_no\n",
    "# 2. customer_id\n",
    "# 3. gender\n",
    "# 4. age\n",
    "# 5. product_category\n",
    "# 6. quantity"
   ]
  },
  {
   "cell_type": "markdown",
   "id": "6a912bc0",
   "metadata": {},
   "source": [
    "### Task 3.2 Extract the relevant columns for this analysis."
   ]
  },
  {
   "cell_type": "code",
   "execution_count": 5,
   "id": "e72f7187",
   "metadata": {},
   "outputs": [
    {
     "data": {
      "text/html": [
       "<div>\n",
       "<style scoped>\n",
       "    .dataframe tbody tr th:only-of-type {\n",
       "        vertical-align: middle;\n",
       "    }\n",
       "\n",
       "    .dataframe tbody tr th {\n",
       "        vertical-align: top;\n",
       "    }\n",
       "\n",
       "    .dataframe thead th {\n",
       "        text-align: right;\n",
       "    }\n",
       "</style>\n",
       "<table border=\"1\" class=\"dataframe\">\n",
       "  <thead>\n",
       "    <tr style=\"text-align: right;\">\n",
       "      <th></th>\n",
       "      <th>customer_id</th>\n",
       "      <th>gender</th>\n",
       "      <th>age</th>\n",
       "      <th>product_category</th>\n",
       "      <th>quantity</th>\n",
       "      <th>sales_price</th>\n",
       "    </tr>\n",
       "  </thead>\n",
       "  <tbody>\n",
       "    <tr>\n",
       "      <th>0</th>\n",
       "      <td>1</td>\n",
       "      <td>Female</td>\n",
       "      <td>28</td>\n",
       "      <td>Clothing</td>\n",
       "      <td>5</td>\n",
       "      <td>1500.40</td>\n",
       "    </tr>\n",
       "    <tr>\n",
       "      <th>1</th>\n",
       "      <td>2</td>\n",
       "      <td>Male</td>\n",
       "      <td>21</td>\n",
       "      <td>Shoes</td>\n",
       "      <td>3</td>\n",
       "      <td>1800.51</td>\n",
       "    </tr>\n",
       "    <tr>\n",
       "      <th>2</th>\n",
       "      <td>3</td>\n",
       "      <td>Male</td>\n",
       "      <td>20</td>\n",
       "      <td>Clothing</td>\n",
       "      <td>1</td>\n",
       "      <td>300.08</td>\n",
       "    </tr>\n",
       "    <tr>\n",
       "      <th>3</th>\n",
       "      <td>4</td>\n",
       "      <td>Female</td>\n",
       "      <td>66</td>\n",
       "      <td>Shoes</td>\n",
       "      <td>5</td>\n",
       "      <td>3000.85</td>\n",
       "    </tr>\n",
       "    <tr>\n",
       "      <th>4</th>\n",
       "      <td>5</td>\n",
       "      <td>Female</td>\n",
       "      <td>53</td>\n",
       "      <td>Books</td>\n",
       "      <td>4</td>\n",
       "      <td>60.60</td>\n",
       "    </tr>\n",
       "  </tbody>\n",
       "</table>\n",
       "</div>"
      ],
      "text/plain": [
       "   customer_id  gender  age product_category  quantity  sales_price\n",
       "0            1  Female   28         Clothing         5      1500.40\n",
       "1            2    Male   21            Shoes         3      1800.51\n",
       "2            3    Male   20         Clothing         1       300.08\n",
       "3            4  Female   66            Shoes         5      3000.85\n",
       "4            5  Female   53            Books         4        60.60"
      ]
     },
     "execution_count": 5,
     "metadata": {},
     "output_type": "execute_result"
    }
   ],
   "source": [
    "# extract the relevant columns for this analysis.\n",
    "df_analysis = df[['customer_id', 'gender', 'age', 'product_category', 'quantity', 'sales_price']]\n",
    "# display the dataframe\n",
    "df_analysis.head()"
   ]
  },
  {
   "cell_type": "markdown",
   "id": "378b9aed",
   "metadata": {},
   "source": [
    "---"
   ]
  },
  {
   "cell_type": "markdown",
   "id": "b573c0df",
   "metadata": {},
   "source": [
    "## Task 4: Plot Charts for Outlier Detection"
   ]
  },
  {
   "cell_type": "markdown",
   "id": "ef80b6f8",
   "metadata": {},
   "source": [
    "### Task 4.1: Visualise all the outliers of the dataframe."
   ]
  },
  {
   "cell_type": "code",
   "execution_count": 6,
   "id": "ae790f65",
   "metadata": {},
   "outputs": [
    {
     "data": {
      "image/png": "[encoded data removed]",
      "text/plain": [
       "<Figure size 1200x600 with 1 Axes>"
      ]
     },
     "metadata": {},
     "output_type": "display_data"
    }
   ],
   "source": [
    "# visualise all the outliers of the dataframe\n",
    "plt.figure(figsize=(12, 6))\n",
    "sns.boxplot(data=df_analysis)\n",
    "plt.title(\"Outlier Detection of the dataframe\")\n",
    "plt.xticks(rotation=45)\n",
    "plt.show()"
   ]
  },
  {
   "cell_type": "markdown",
   "id": "41937fed",
   "metadata": {},
   "source": [
    "---"
   ]
  },
  {
   "cell_type": "markdown",
   "id": "f87afd92",
   "metadata": {},
   "source": [
    "## Task 5: Plot Interrelationship Chart"
   ]
  },
  {
   "cell_type": "markdown",
   "id": "ec04c373",
   "metadata": {},
   "source": [
    "### Task 5.1: Visualize the relationships between numerical variables\n",
    "Visualises the correlation matrix, providing insight into the relationships between numerical variables."
   ]
  },
  {
   "cell_type": "code",
   "execution_count": 7,
   "id": "954dd8bc",
   "metadata": {},
   "outputs": [
    {
     "data": {
      "image/png": "[encoded data removed]",
      "text/plain": [
       "<Figure size 800x600 with 2 Axes>"
      ]
     },
     "metadata": {},
     "output_type": "display_data"
    }
   ],
   "source": [
    "# Create a heatmap to visualize the correlation matrix with annotations\n",
    "numeric_cols = df_analysis.select_dtypes(include=['int64', 'float64'])\n",
    "corr_matrix = numeric_cols.corr()\n",
    "plt.figure(figsize=(8,6))\n",
    "sns.heatmap(corr_matrix, annot=True, cmap='coolwarm', linewidths=0.5)\n",
    "plt.title(\"Correlation Matrix Heatmap\")\n",
    "# Display the plot\n",
    "plt.show()"
   ]
  },
  {
   "cell_type": "markdown",
   "id": "3a000c46",
   "metadata": {},
   "source": [
    "### Task 5.2: Visualize the distribution of prices for each category\n",
    "Create boxplot to visualise the distribution of price across different category values."
   ]
  },
  {
   "cell_type": "code",
   "execution_count": 8,
   "id": "9ea37dae",
   "metadata": {},
   "outputs": [
    {
     "data": {
      "image/png": "[encoded data removed]",
      "text/plain": [
       "<Figure size 1000x600 with 1 Axes>"
      ]
     },
     "metadata": {},
     "output_type": "display_data"
    }
   ],
   "source": [
    "# Create a boxplot to show the distribution of prices for each category\n",
    "plt.figure(figsize=(10,6))\n",
    "sns.boxplot(x='product_category', y='sales_price', data=df_analysis)\n",
    "plt.title(\"Distribution of Sales Price by Product Category\")\n",
    "plt.xlabel(\"Product Category\")\n",
    "plt.ylabel(\"Sales Price\")\n",
    "plt.show()"
   ]
  },
  {
   "cell_type": "markdown",
   "id": "895df750",
   "metadata": {},
   "source": [
    "---"
   ]
  },
  {
   "cell_type": "markdown",
   "id": "981ad485",
   "metadata": {},
   "source": [
    "## Task 6: Handling the Missing Data "
   ]
  },
  {
   "cell_type": "markdown",
   "id": "4a3ef68b",
   "metadata": {},
   "source": [
    "### Task 6.1: Find total missing data."
   ]
  },
  {
   "cell_type": "code",
   "execution_count": 9,
   "id": "22b67000",
   "metadata": {},
   "outputs": [
    {
     "data": {
      "text/plain": [
       "customer_id           0\n",
       "gender                0\n",
       "age                   0\n",
       "product_category      0\n",
       "quantity              0\n",
       "sales_price         994\n",
       "dtype: int64"
      ]
     },
     "execution_count": 9,
     "metadata": {},
     "output_type": "execute_result"
    }
   ],
   "source": [
    "# check total missing data\n",
    "df_analysis.isnull().sum()"
   ]
  },
  {
   "cell_type": "markdown",
   "id": "b342c23f",
   "metadata": {},
   "source": [
    "### Task 6.2: Handle missing data using appropriate imputation techniques."
   ]
  },
  {
   "cell_type": "code",
   "execution_count": 10,
   "id": "5f7ccd31",
   "metadata": {},
   "outputs": [
    {
     "name": "stderr",
     "output_type": "stream",
     "text": [
      "C:\\Users\\User\\AppData\\Local\\Temp\\ipykernel_4640\\1805213879.py:4: SettingWithCopyWarning: \n",
      "A value is trying to be set on a copy of a slice from a DataFrame.\n",
      "Try using .loc[row_indexer,col_indexer] = value instead\n",
      "\n",
      "See the caveats in the documentation: https://pandas.pydata.org/pandas-docs/stable/user_guide/indexing.html#returning-a-view-versus-a-copy\n",
      "  df_analysis[dataimputation_df] = num_imputer.fit_transform(df_analysis[dataimputation_df])\n"
     ]
    }
   ],
   "source": [
    "# perform appropriate data imputation\n",
    "dataimputation_df = df_analysis.select_dtypes(include=['int64', 'float64']).columns\n",
    "num_imputer = SimpleImputer(strategy='median')\n",
    "df_analysis[dataimputation_df] = num_imputer.fit_transform(df_analysis[dataimputation_df])"
   ]
  },
  {
   "cell_type": "code",
   "execution_count": 11,
   "id": "7b412abb",
   "metadata": {},
   "outputs": [
    {
     "data": {
      "text/plain": [
       "0"
      ]
     },
     "execution_count": 11,
     "metadata": {},
     "output_type": "execute_result"
    }
   ],
   "source": [
    "# check total missing data after data imputation\n",
    "dataimputation_df.isnull().sum()"
   ]
  },
  {
   "cell_type": "markdown",
   "id": "97054ebf",
   "metadata": {},
   "source": [
    "---"
   ]
  },
  {
   "cell_type": "markdown",
   "id": "f4cdbf04",
   "metadata": {},
   "source": [
    "## Task 7: Create Dummy Variables "
   ]
  },
  {
   "cell_type": "markdown",
   "id": "c226a6a9",
   "metadata": {},
   "source": [
    "### Task 7.1: Create dummy variables for all the categorical data."
   ]
  },
  {
   "cell_type": "code",
   "execution_count": 14,
   "id": "00a97e35",
   "metadata": {},
   "outputs": [
    {
     "data": {
      "text/html": [
       "<div>\n",
       "<style scoped>\n",
       "    .dataframe tbody tr th:only-of-type {\n",
       "        vertical-align: middle;\n",
       "    }\n",
       "\n",
       "    .dataframe tbody tr th {\n",
       "        vertical-align: top;\n",
       "    }\n",
       "\n",
       "    .dataframe thead th {\n",
       "        text-align: right;\n",
       "    }\n",
       "</style>\n",
       "<table border=\"1\" class=\"dataframe\">\n",
       "  <thead>\n",
       "    <tr style=\"text-align: right;\">\n",
       "      <th></th>\n",
       "      <th>customer_id</th>\n",
       "      <th>age</th>\n",
       "      <th>quantity</th>\n",
       "      <th>sales_price</th>\n",
       "      <th>gender_Male</th>\n",
       "      <th>product_category_Clothing</th>\n",
       "      <th>product_category_Cosmetics</th>\n",
       "      <th>product_category_Food &amp; Beverage</th>\n",
       "      <th>product_category_Shoes</th>\n",
       "      <th>product_category_Souvenir</th>\n",
       "      <th>product_category_Technology</th>\n",
       "      <th>product_category_Toys</th>\n",
       "    </tr>\n",
       "  </thead>\n",
       "  <tbody>\n",
       "    <tr>\n",
       "      <th>0</th>\n",
       "      <td>1.0</td>\n",
       "      <td>28.0</td>\n",
       "      <td>5.0</td>\n",
       "      <td>1500.40</td>\n",
       "      <td>False</td>\n",
       "      <td>True</td>\n",
       "      <td>False</td>\n",
       "      <td>False</td>\n",
       "      <td>False</td>\n",
       "      <td>False</td>\n",
       "      <td>False</td>\n",
       "      <td>False</td>\n",
       "    </tr>\n",
       "    <tr>\n",
       "      <th>1</th>\n",
       "      <td>2.0</td>\n",
       "      <td>21.0</td>\n",
       "      <td>3.0</td>\n",
       "      <td>1800.51</td>\n",
       "      <td>True</td>\n",
       "      <td>False</td>\n",
       "      <td>False</td>\n",
       "      <td>False</td>\n",
       "      <td>True</td>\n",
       "      <td>False</td>\n",
       "      <td>False</td>\n",
       "      <td>False</td>\n",
       "    </tr>\n",
       "    <tr>\n",
       "      <th>2</th>\n",
       "      <td>3.0</td>\n",
       "      <td>20.0</td>\n",
       "      <td>1.0</td>\n",
       "      <td>300.08</td>\n",
       "      <td>True</td>\n",
       "      <td>True</td>\n",
       "      <td>False</td>\n",
       "      <td>False</td>\n",
       "      <td>False</td>\n",
       "      <td>False</td>\n",
       "      <td>False</td>\n",
       "      <td>False</td>\n",
       "    </tr>\n",
       "    <tr>\n",
       "      <th>3</th>\n",
       "      <td>4.0</td>\n",
       "      <td>66.0</td>\n",
       "      <td>5.0</td>\n",
       "      <td>3000.85</td>\n",
       "      <td>False</td>\n",
       "      <td>False</td>\n",
       "      <td>False</td>\n",
       "      <td>False</td>\n",
       "      <td>True</td>\n",
       "      <td>False</td>\n",
       "      <td>False</td>\n",
       "      <td>False</td>\n",
       "    </tr>\n",
       "    <tr>\n",
       "      <th>4</th>\n",
       "      <td>5.0</td>\n",
       "      <td>53.0</td>\n",
       "      <td>4.0</td>\n",
       "      <td>60.60</td>\n",
       "      <td>False</td>\n",
       "      <td>False</td>\n",
       "      <td>False</td>\n",
       "      <td>False</td>\n",
       "      <td>False</td>\n",
       "      <td>False</td>\n",
       "      <td>False</td>\n",
       "      <td>False</td>\n",
       "    </tr>\n",
       "  </tbody>\n",
       "</table>\n",
       "</div>"
      ],
      "text/plain": [
       "   customer_id   age  quantity  sales_price  gender_Male  \\\n",
       "0          1.0  28.0       5.0      1500.40        False   \n",
       "1          2.0  21.0       3.0      1800.51         True   \n",
       "2          3.0  20.0       1.0       300.08         True   \n",
       "3          4.0  66.0       5.0      3000.85        False   \n",
       "4          5.0  53.0       4.0        60.60        False   \n",
       "\n",
       "   product_category_Clothing  product_category_Cosmetics  \\\n",
       "0                       True                       False   \n",
       "1                      False                       False   \n",
       "2                       True                       False   \n",
       "3                      False                       False   \n",
       "4                      False                       False   \n",
       "\n",
       "   product_category_Food & Beverage  product_category_Shoes  \\\n",
       "0                             False                   False   \n",
       "1                             False                    True   \n",
       "2                             False                   False   \n",
       "3                             False                    True   \n",
       "4                             False                   False   \n",
       "\n",
       "   product_category_Souvenir  product_category_Technology  \\\n",
       "0                      False                        False   \n",
       "1                      False                        False   \n",
       "2                      False                        False   \n",
       "3                      False                        False   \n",
       "4                      False                        False   \n",
       "\n",
       "   product_category_Toys  \n",
       "0                  False  \n",
       "1                  False  \n",
       "2                  False  \n",
       "3                  False  \n",
       "4                  False  "
      ]
     },
     "execution_count": 14,
     "metadata": {},
     "output_type": "execute_result"
    }
   ],
   "source": [
    "# create dummy variables for the rest of the categorical data.\n",
    "missingdata_df = df_analysis.copy()\n",
    "categorical_cols = missingdata_df.select_dtypes(include=['object']).columns\n",
    "missingdata_df = pd.get_dummies(missingdata_df, columns=categorical_cols, drop_first=True)\n",
    "missingdata_df = missingdata_df.astype(int)\n",
    "# display the dataframe\n",
    "missingdata_df.head()\n"
   ]
  },
  {
   "cell_type": "markdown",
   "id": "1ecc1526",
   "metadata": {},
   "source": [
    "---"
   ]
  },
  {
   "cell_type": "markdown",
   "id": "93265c46",
   "metadata": {},
   "source": [
    "# Submission\n",
    "- Rename this file as \"YourName_DE53002FP_PRJ_Coding.ipynb\"\n",
    "- SUbmit the file to myConnexion."
   ]
  },
  {
   "cell_type": "code",
   "execution_count": null,
   "id": "6741707d",
   "metadata": {},
   "outputs": [],
   "source": []
  }
 ],
 "metadata": {
  "kernelspec": {
   "display_name": "Python 3 (ipykernel)",
   "language": "python",
   "name": "python3"
  },
  "language_info": {
   "codemirror_mode": {
    "name": "ipython",
    "version": 3
   },
   "file_extension": ".py",
   "mimetype": "text/x-python",
   "name": "python",
   "nbconvert_exporter": "python",
   "pygments_lexer": "ipython3",
   "version": "3.11.5"
  },
  "varInspector": {
   "cols": {
    "lenName": 16,
    "lenType": 16,
    "lenVar": 40
   },
   "kernels_config": {
    "python": {
     "delete_cmd_postfix": "",
     "delete_cmd_prefix": "del ",
     "library": "var_list.py",
     "varRefreshCmd": "print(var_dic_list())"
    },
    "r": {
     "delete_cmd_postfix": ") ",
     "delete_cmd_prefix": "rm(",
     "library": "var_list.r",
     "varRefreshCmd": "cat(var_dic_list()) "
    }
   },
   "types_to_exclude": [
    "module",
    "function",
    "builtin_function_or_method",
    "instance",
    "_Feature"
   ],
   "window_display": false
  }
 },
 "nbformat": 4,
 "nbformat_minor": 5
}
